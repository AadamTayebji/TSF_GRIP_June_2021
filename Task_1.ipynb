{
 "cells": [
  {
   "cell_type": "markdown",
   "id": "03ca40c0",
   "metadata": {},
   "source": [
    "# TSF GRIP Task 1\n",
    "\n",
    "## Project by Aadam Tayebji\n",
    "\n",
    "### Prediction using supervised ML\n",
    "\n",
    "Predict the percentage of a student based on the number of study hours using a simple linear regression that involves just two variables.\n",
    "\n",
    "### Importing the dataset"
   ]
  },
  {
   "cell_type": "code",
   "execution_count": 1,
   "id": "196c8b2b",
   "metadata": {},
   "outputs": [],
   "source": [
    "dat<-read.csv(\"https://raw.githubusercontent.com/AdiPersonalWorks/Random/master/student_scores%20-%20student_scores.csv\")"
   ]
  },
  {
   "cell_type": "code",
   "execution_count": 2,
   "id": "ea8b16a9",
   "metadata": {},
   "outputs": [
    {
     "name": "stderr",
     "output_type": "stream",
     "text": [
      "Package 'creditmodel' version 1.3.0\n",
      "\n"
     ]
    }
   ],
   "source": [
    "library(creditmodel)\n"
   ]
  },
  {
   "cell_type": "markdown",
   "id": "ac57a2ea",
   "metadata": {},
   "source": [
    "### Viewing characteristics of the data and displaying the scatterplot"
   ]
  },
  {
   "cell_type": "code",
   "execution_count": 3,
   "id": "e8443f5d",
   "metadata": {},
   "outputs": [
    {
     "data": {
      "text/html": [
       "<table class=\"dataframe\">\n",
       "<caption>A data.frame: 6 × 2</caption>\n",
       "<thead>\n",
       "\t<tr><th></th><th scope=col>Hours</th><th scope=col>Scores</th></tr>\n",
       "\t<tr><th></th><th scope=col>&lt;dbl&gt;</th><th scope=col>&lt;int&gt;</th></tr>\n",
       "</thead>\n",
       "<tbody>\n",
       "\t<tr><th scope=row>1</th><td>2.5</td><td>21</td></tr>\n",
       "\t<tr><th scope=row>2</th><td>5.1</td><td>47</td></tr>\n",
       "\t<tr><th scope=row>3</th><td>3.2</td><td>27</td></tr>\n",
       "\t<tr><th scope=row>4</th><td>8.5</td><td>75</td></tr>\n",
       "\t<tr><th scope=row>5</th><td>3.5</td><td>30</td></tr>\n",
       "\t<tr><th scope=row>6</th><td>1.5</td><td>20</td></tr>\n",
       "</tbody>\n",
       "</table>\n"
      ],
      "text/latex": [
       "A data.frame: 6 × 2\n",
       "\\begin{tabular}{r|ll}\n",
       "  & Hours & Scores\\\\\n",
       "  & <dbl> & <int>\\\\\n",
       "\\hline\n",
       "\t1 & 2.5 & 21\\\\\n",
       "\t2 & 5.1 & 47\\\\\n",
       "\t3 & 3.2 & 27\\\\\n",
       "\t4 & 8.5 & 75\\\\\n",
       "\t5 & 3.5 & 30\\\\\n",
       "\t6 & 1.5 & 20\\\\\n",
       "\\end{tabular}\n"
      ],
      "text/markdown": [
       "\n",
       "A data.frame: 6 × 2\n",
       "\n",
       "| <!--/--> | Hours &lt;dbl&gt; | Scores &lt;int&gt; |\n",
       "|---|---|---|\n",
       "| 1 | 2.5 | 21 |\n",
       "| 2 | 5.1 | 47 |\n",
       "| 3 | 3.2 | 27 |\n",
       "| 4 | 8.5 | 75 |\n",
       "| 5 | 3.5 | 30 |\n",
       "| 6 | 1.5 | 20 |\n",
       "\n"
      ],
      "text/plain": [
       "  Hours Scores\n",
       "1 2.5   21    \n",
       "2 5.1   47    \n",
       "3 3.2   27    \n",
       "4 8.5   75    \n",
       "5 3.5   30    \n",
       "6 1.5   20    "
      ]
     },
     "metadata": {},
     "output_type": "display_data"
    }
   ],
   "source": [
    "head(dat)"
   ]
  },
  {
   "cell_type": "code",
   "execution_count": 4,
   "id": "2f7e8cf3",
   "metadata": {},
   "outputs": [
    {
     "data": {
      "text/html": [
       "<style>\n",
       ".list-inline {list-style: none; margin:0; padding: 0}\n",
       ".list-inline>li {display: inline-block}\n",
       ".list-inline>li:not(:last-child)::after {content: \"\\00b7\"; padding: 0 .5ex}\n",
       "</style>\n",
       "<ol class=list-inline><li>25</li><li>2</li></ol>\n"
      ],
      "text/latex": [
       "\\begin{enumerate*}\n",
       "\\item 25\n",
       "\\item 2\n",
       "\\end{enumerate*}\n"
      ],
      "text/markdown": [
       "1. 25\n",
       "2. 2\n",
       "\n",
       "\n"
      ],
      "text/plain": [
       "[1] 25  2"
      ]
     },
     "metadata": {},
     "output_type": "display_data"
    }
   ],
   "source": [
    "dim(dat)"
   ]
  },
  {
   "cell_type": "code",
   "execution_count": 5,
   "id": "c1148ee7",
   "metadata": {},
   "outputs": [
    {
     "data": {
      "text/plain": [
       "     Hours           Scores     \n",
       " Min.   :1.100   Min.   :17.00  \n",
       " 1st Qu.:2.700   1st Qu.:30.00  \n",
       " Median :4.800   Median :47.00  \n",
       " Mean   :5.012   Mean   :51.48  \n",
       " 3rd Qu.:7.400   3rd Qu.:75.00  \n",
       " Max.   :9.200   Max.   :95.00  "
      ]
     },
     "metadata": {},
     "output_type": "display_data"
    }
   ],
   "source": [
    "summary(dat)"
   ]
  },
  {
   "cell_type": "code",
   "execution_count": 6,
   "id": "71ccab9a",
   "metadata": {},
   "outputs": [],
   "source": [
    "attach(dat)"
   ]
  },
  {
   "cell_type": "code",
   "execution_count": 7,
   "id": "f4531354",
   "metadata": {},
   "outputs": [
    {
     "data": {
      "image/png": "[encoded data removed]",
      "text/plain": [
       "plot without title"
      ]
     },
     "metadata": {
      "image/png": {
       "height": 420,
       "width": 420
      }
     },
     "output_type": "display_data"
    }
   ],
   "source": [
    "plot(Scores~Hours,pch=19,col=\"blue\")"
   ]
  },
  {
   "cell_type": "markdown",
   "id": "09beb557",
   "metadata": {},
   "source": [
    "**It is evident that the two variables have a positive linear relation between them**"
   ]
  },
  {
   "cell_type": "markdown",
   "id": "4182f14f",
   "metadata": {},
   "source": [
    "### Generating the Training and Testing dataset"
   ]
  },
  {
   "cell_type": "code",
   "execution_count": 8,
   "id": "46f41537",
   "metadata": {},
   "outputs": [],
   "source": [
    "dt = sort(sample(nrow(dat), nrow(dat)*.7))"
   ]
  },
  {
   "cell_type": "code",
   "execution_count": 9,
   "id": "c53e2bbe",
   "metadata": {},
   "outputs": [
    {
     "data": {
      "text/html": [
       "<table class=\"dataframe\">\n",
       "<caption>A data.frame: 17 × 2</caption>\n",
       "<thead>\n",
       "\t<tr><th></th><th scope=col>Hours</th><th scope=col>Scores</th></tr>\n",
       "\t<tr><th></th><th scope=col>&lt;dbl&gt;</th><th scope=col>&lt;int&gt;</th></tr>\n",
       "</thead>\n",
       "<tbody>\n",
       "\t<tr><th scope=row>1</th><td>2.5</td><td>21</td></tr>\n",
       "\t<tr><th scope=row>2</th><td>5.1</td><td>47</td></tr>\n",
       "\t<tr><th scope=row>3</th><td>3.2</td><td>27</td></tr>\n",
       "\t<tr><th scope=row>5</th><td>3.5</td><td>30</td></tr>\n",
       "\t<tr><th scope=row>8</th><td>5.5</td><td>60</td></tr>\n",
       "\t<tr><th scope=row>9</th><td>8.3</td><td>81</td></tr>\n",
       "\t<tr><th scope=row>10</th><td>2.7</td><td>25</td></tr>\n",
       "\t<tr><th scope=row>11</th><td>7.7</td><td>85</td></tr>\n",
       "\t<tr><th scope=row>13</th><td>4.5</td><td>41</td></tr>\n",
       "\t<tr><th scope=row>14</th><td>3.3</td><td>42</td></tr>\n",
       "\t<tr><th scope=row>15</th><td>1.1</td><td>17</td></tr>\n",
       "\t<tr><th scope=row>16</th><td>8.9</td><td>95</td></tr>\n",
       "\t<tr><th scope=row>18</th><td>1.9</td><td>24</td></tr>\n",
       "\t<tr><th scope=row>20</th><td>7.4</td><td>69</td></tr>\n",
       "\t<tr><th scope=row>21</th><td>2.7</td><td>30</td></tr>\n",
       "\t<tr><th scope=row>22</th><td>4.8</td><td>54</td></tr>\n",
       "\t<tr><th scope=row>25</th><td>7.8</td><td>86</td></tr>\n",
       "</tbody>\n",
       "</table>\n"
      ],
      "text/latex": [
       "A data.frame: 17 × 2\n",
       "\\begin{tabular}{r|ll}\n",
       "  & Hours & Scores\\\\\n",
       "  & <dbl> & <int>\\\\\n",
       "\\hline\n",
       "\t1 & 2.5 & 21\\\\\n",
       "\t2 & 5.1 & 47\\\\\n",
       "\t3 & 3.2 & 27\\\\\n",
       "\t5 & 3.5 & 30\\\\\n",
       "\t8 & 5.5 & 60\\\\\n",
       "\t9 & 8.3 & 81\\\\\n",
       "\t10 & 2.7 & 25\\\\\n",
       "\t11 & 7.7 & 85\\\\\n",
       "\t13 & 4.5 & 41\\\\\n",
       "\t14 & 3.3 & 42\\\\\n",
       "\t15 & 1.1 & 17\\\\\n",
       "\t16 & 8.9 & 95\\\\\n",
       "\t18 & 1.9 & 24\\\\\n",
       "\t20 & 7.4 & 69\\\\\n",
       "\t21 & 2.7 & 30\\\\\n",
       "\t22 & 4.8 & 54\\\\\n",
       "\t25 & 7.8 & 86\\\\\n",
       "\\end{tabular}\n"
      ],
      "text/markdown": [
       "\n",
       "A data.frame: 17 × 2\n",
       "\n",
       "| <!--/--> | Hours &lt;dbl&gt; | Scores &lt;int&gt; |\n",
       "|---|---|---|\n",
       "| 1 | 2.5 | 21 |\n",
       "| 2 | 5.1 | 47 |\n",
       "| 3 | 3.2 | 27 |\n",
       "| 5 | 3.5 | 30 |\n",
       "| 8 | 5.5 | 60 |\n",
       "| 9 | 8.3 | 81 |\n",
       "| 10 | 2.7 | 25 |\n",
       "| 11 | 7.7 | 85 |\n",
       "| 13 | 4.5 | 41 |\n",
       "| 14 | 3.3 | 42 |\n",
       "| 15 | 1.1 | 17 |\n",
       "| 16 | 8.9 | 95 |\n",
       "| 18 | 1.9 | 24 |\n",
       "| 20 | 7.4 | 69 |\n",
       "| 21 | 2.7 | 30 |\n",
       "| 22 | 4.8 | 54 |\n",
       "| 25 | 7.8 | 86 |\n",
       "\n"
      ],
      "text/plain": [
       "   Hours Scores\n",
       "1  2.5   21    \n",
       "2  5.1   47    \n",
       "3  3.2   27    \n",
       "5  3.5   30    \n",
       "8  5.5   60    \n",
       "9  8.3   81    \n",
       "10 2.7   25    \n",
       "11 7.7   85    \n",
       "13 4.5   41    \n",
       "14 3.3   42    \n",
       "15 1.1   17    \n",
       "16 8.9   95    \n",
       "18 1.9   24    \n",
       "20 7.4   69    \n",
       "21 2.7   30    \n",
       "22 4.8   54    \n",
       "25 7.8   86    "
      ]
     },
     "metadata": {},
     "output_type": "display_data"
    }
   ],
   "source": [
    "train=dat[dt,]\n",
    "train"
   ]
  },
  {
   "cell_type": "code",
   "execution_count": 10,
   "id": "1449e0f5",
   "metadata": {},
   "outputs": [
    {
     "data": {
      "text/html": [
       "<table class=\"dataframe\">\n",
       "<caption>A data.frame: 8 × 2</caption>\n",
       "<thead>\n",
       "\t<tr><th></th><th scope=col>Hours</th><th scope=col>Scores</th></tr>\n",
       "\t<tr><th></th><th scope=col>&lt;dbl&gt;</th><th scope=col>&lt;int&gt;</th></tr>\n",
       "</thead>\n",
       "<tbody>\n",
       "\t<tr><th scope=row>4</th><td>8.5</td><td>75</td></tr>\n",
       "\t<tr><th scope=row>6</th><td>1.5</td><td>20</td></tr>\n",
       "\t<tr><th scope=row>7</th><td>9.2</td><td>88</td></tr>\n",
       "\t<tr><th scope=row>12</th><td>5.9</td><td>62</td></tr>\n",
       "\t<tr><th scope=row>17</th><td>2.5</td><td>30</td></tr>\n",
       "\t<tr><th scope=row>19</th><td>6.1</td><td>67</td></tr>\n",
       "\t<tr><th scope=row>23</th><td>3.8</td><td>35</td></tr>\n",
       "\t<tr><th scope=row>24</th><td>6.9</td><td>76</td></tr>\n",
       "</tbody>\n",
       "</table>\n"
      ],
      "text/latex": [
       "A data.frame: 8 × 2\n",
       "\\begin{tabular}{r|ll}\n",
       "  & Hours & Scores\\\\\n",
       "  & <dbl> & <int>\\\\\n",
       "\\hline\n",
       "\t4 & 8.5 & 75\\\\\n",
       "\t6 & 1.5 & 20\\\\\n",
       "\t7 & 9.2 & 88\\\\\n",
       "\t12 & 5.9 & 62\\\\\n",
       "\t17 & 2.5 & 30\\\\\n",
       "\t19 & 6.1 & 67\\\\\n",
       "\t23 & 3.8 & 35\\\\\n",
       "\t24 & 6.9 & 76\\\\\n",
       "\\end{tabular}\n"
      ],
      "text/markdown": [
       "\n",
       "A data.frame: 8 × 2\n",
       "\n",
       "| <!--/--> | Hours &lt;dbl&gt; | Scores &lt;int&gt; |\n",
       "|---|---|---|\n",
       "| 4 | 8.5 | 75 |\n",
       "| 6 | 1.5 | 20 |\n",
       "| 7 | 9.2 | 88 |\n",
       "| 12 | 5.9 | 62 |\n",
       "| 17 | 2.5 | 30 |\n",
       "| 19 | 6.1 | 67 |\n",
       "| 23 | 3.8 | 35 |\n",
       "| 24 | 6.9 | 76 |\n",
       "\n"
      ],
      "text/plain": [
       "   Hours Scores\n",
       "4  8.5   75    \n",
       "6  1.5   20    \n",
       "7  9.2   88    \n",
       "12 5.9   62    \n",
       "17 2.5   30    \n",
       "19 6.1   67    \n",
       "23 3.8   35    \n",
       "24 6.9   76    "
      ]
     },
     "metadata": {},
     "output_type": "display_data"
    }
   ],
   "source": [
    "test=dat[-dt,]\n",
    "test"
   ]
  },
  {
   "cell_type": "markdown",
   "id": "6bbfd23b",
   "metadata": {},
   "source": [
    "### Training the model Using the Training Set"
   ]
  },
  {
   "cell_type": "code",
   "execution_count": 11,
   "id": "07f80967",
   "metadata": {},
   "outputs": [],
   "source": [
    "Scores=data.frame(Scores)\n",
    "Hours=data.frame(Hours)"
   ]
  },
  {
   "cell_type": "code",
   "execution_count": 12,
   "id": "bad591b6",
   "metadata": {},
   "outputs": [],
   "source": [
    "y=(Scores[dt,])\n",
    "x=(Hours[dt,])"
   ]
  },
  {
   "cell_type": "code",
   "execution_count": 13,
   "id": "ecc7da1f",
   "metadata": {},
   "outputs": [],
   "source": [
    "fit=lm(y~x)"
   ]
  },
  {
   "cell_type": "code",
   "execution_count": 14,
   "id": "8fcc05cd",
   "metadata": {},
   "outputs": [],
   "source": [
    "coeff=coefficients(fit)"
   ]
  },
  {
   "cell_type": "code",
   "execution_count": 15,
   "id": "4ea2895a",
   "metadata": {},
   "outputs": [],
   "source": [
    "eq = paste0(\"y = \", round(coeff[1], 3), \"*x +\", round(coeff[2], 3))"
   ]
  },
  {
   "cell_type": "code",
   "execution_count": 16,
   "id": "deb988c6",
   "metadata": {},
   "outputs": [
    {
     "data": {
      "image/png": "[encoded data removed]",
      "text/plain": [
       "Plot with title \"y = 0.104*x +10.287\""
      ]
     },
     "metadata": {
      "image/png": {
       "height": 420,
       "width": 420
      }
     },
     "output_type": "display_data"
    }
   ],
   "source": [
    "plot(Scores[,1]~Hours[,1],pch=19,col=\"blue\",main=eq)\n",
    "abline(coeff,col=\"darkblue\")"
   ]
  },
  {
   "cell_type": "markdown",
   "id": "5f7d6d3b",
   "metadata": {},
   "source": [
    "**The above plot shows the regression line with respect to the datapoints.**"
   ]
  },
  {
   "cell_type": "markdown",
   "id": "64fe830e",
   "metadata": {},
   "source": [
    "### Predicting Values using the Testing Set"
   ]
  },
  {
   "cell_type": "code",
   "execution_count": 17,
   "id": "558f484c",
   "metadata": {},
   "outputs": [],
   "source": [
    "x=(Hours[-dt,])"
   ]
  },
  {
   "cell_type": "code",
   "execution_count": 18,
   "id": "e7543bd0",
   "metadata": {},
   "outputs": [],
   "source": [
    "y_pred=predict.lm(fit,newdata=data.frame(x))"
   ]
  },
  {
   "cell_type": "code",
   "execution_count": 19,
   "id": "4b4ae034",
   "metadata": {},
   "outputs": [],
   "source": [
    "table=data.frame(Scores[-dt,],y_pred)"
   ]
  },
  {
   "cell_type": "code",
   "execution_count": 20,
   "id": "c4bcd0b6",
   "metadata": {},
   "outputs": [
    {
     "data": {
      "text/html": [
       "<table class=\"dataframe\">\n",
       "<caption>A data.frame: 8 × 2</caption>\n",
       "<thead>\n",
       "\t<tr><th></th><th scope=col>Scores..dt...</th><th scope=col>y_pred</th></tr>\n",
       "\t<tr><th></th><th scope=col>&lt;int&gt;</th><th scope=col>&lt;dbl&gt;</th></tr>\n",
       "</thead>\n",
       "<tbody>\n",
       "\t<tr><th scope=row>1</th><td>75</td><td>87.54472</td></tr>\n",
       "\t<tr><th scope=row>2</th><td>20</td><td>15.53495</td></tr>\n",
       "\t<tr><th scope=row>3</th><td>88</td><td>94.74569</td></tr>\n",
       "\t<tr><th scope=row>4</th><td>62</td><td>60.79823</td></tr>\n",
       "\t<tr><th scope=row>5</th><td>30</td><td>25.82206</td></tr>\n",
       "\t<tr><th scope=row>6</th><td>67</td><td>62.85565</td></tr>\n",
       "\t<tr><th scope=row>7</th><td>35</td><td>39.19530</td></tr>\n",
       "\t<tr><th scope=row>8</th><td>76</td><td>71.08534</td></tr>\n",
       "</tbody>\n",
       "</table>\n"
      ],
      "text/latex": [
       "A data.frame: 8 × 2\n",
       "\\begin{tabular}{r|ll}\n",
       "  & Scores..dt... & y\\_pred\\\\\n",
       "  & <int> & <dbl>\\\\\n",
       "\\hline\n",
       "\t1 & 75 & 87.54472\\\\\n",
       "\t2 & 20 & 15.53495\\\\\n",
       "\t3 & 88 & 94.74569\\\\\n",
       "\t4 & 62 & 60.79823\\\\\n",
       "\t5 & 30 & 25.82206\\\\\n",
       "\t6 & 67 & 62.85565\\\\\n",
       "\t7 & 35 & 39.19530\\\\\n",
       "\t8 & 76 & 71.08534\\\\\n",
       "\\end{tabular}\n"
      ],
      "text/markdown": [
       "\n",
       "A data.frame: 8 × 2\n",
       "\n",
       "| <!--/--> | Scores..dt... &lt;int&gt; | y_pred &lt;dbl&gt; |\n",
       "|---|---|---|\n",
       "| 1 | 75 | 87.54472 |\n",
       "| 2 | 20 | 15.53495 |\n",
       "| 3 | 88 | 94.74569 |\n",
       "| 4 | 62 | 60.79823 |\n",
       "| 5 | 30 | 25.82206 |\n",
       "| 6 | 67 | 62.85565 |\n",
       "| 7 | 35 | 39.19530 |\n",
       "| 8 | 76 | 71.08534 |\n",
       "\n"
      ],
      "text/plain": [
       "  Scores..dt... y_pred  \n",
       "1 75            87.54472\n",
       "2 20            15.53495\n",
       "3 88            94.74569\n",
       "4 62            60.79823\n",
       "5 30            25.82206\n",
       "6 67            62.85565\n",
       "7 35            39.19530\n",
       "8 76            71.08534"
      ]
     },
     "metadata": {},
     "output_type": "display_data"
    }
   ],
   "source": [
    "table"
   ]
  },
  {
   "cell_type": "code",
   "execution_count": 21,
   "id": "f30ec79b",
   "metadata": {},
   "outputs": [
    {
     "data": {
      "text/html": [
       "<strong>1:</strong> 95.2600494555022"
      ],
      "text/latex": [
       "\\textbf{1:} 95.2600494555022"
      ],
      "text/markdown": [
       "**1:** 95.2600494555022"
      ],
      "text/plain": [
       "       1 \n",
       "95.26005 "
      ]
     },
     "metadata": {},
     "output_type": "display_data"
    }
   ],
   "source": [
    "pred=predict.lm(fit,newdata=data.frame(x=9.25))\n",
    "pred"
   ]
  },
  {
   "cell_type": "markdown",
   "id": "1b586f3f",
   "metadata": {},
   "source": [
    "**According to the model generated, the predicted score is 92.195 if you study for 9.25 hours.**"
   ]
  },
  {
   "cell_type": "markdown",
   "id": "73547131",
   "metadata": {},
   "source": [
    "### Evaluation of the Model"
   ]
  },
  {
   "cell_type": "markdown",
   "id": "060a9feb",
   "metadata": {},
   "source": [
    "One of the many ways to evaluate the performance of the model is the Mean Absolute Error which is given below:"
   ]
  },
  {
   "cell_type": "code",
   "execution_count": 22,
   "id": "7ef21053",
   "metadata": {},
   "outputs": [
    {
     "data": {
      "text/html": [
       "5.29868504397398"
      ],
      "text/latex": [
       "5.29868504397398"
      ],
      "text/markdown": [
       "5.29868504397398"
      ],
      "text/plain": [
       "[1] 5.298685"
      ]
     },
     "metadata": {},
     "output_type": "display_data"
    }
   ],
   "source": [
    "mean(abs(Scores[-dt,]-y_pred))"
   ]
  }
 ],
 "metadata": {
  "kernelspec": {
   "display_name": "R 4.1.0",
   "language": "R",
   "name": "ir41"
  },
  "language_info": {
   "codemirror_mode": "r",
   "file_extension": ".r",
   "mimetype": "text/x-r-source",
   "name": "R",
   "pygments_lexer": "r",
   "version": "4.1.0"
  }
 },
 "nbformat": 4,
 "nbformat_minor": 5
}
